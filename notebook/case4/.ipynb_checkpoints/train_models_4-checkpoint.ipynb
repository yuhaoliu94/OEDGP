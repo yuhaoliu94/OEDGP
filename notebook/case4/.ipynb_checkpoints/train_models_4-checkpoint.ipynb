{
 "cells": [
  {
   "cell_type": "code",
   "execution_count": 1,
   "id": "c789d477-a221-4bf6-b577-067a059cfb8c",
   "metadata": {
    "tags": []
   },
   "outputs": [],
   "source": [
    "import os\n",
    "import pickle\n",
    "os.getcwd()\n",
    "os.chdir(\"../../\")\n",
    "\n",
    "import numpy as np\n",
    "from matplotlib import pyplot as plt"
   ]
  },
  {
   "cell_type": "code",
   "execution_count": 2,
   "id": "fc1699a9-1668-49cd-9809-f78ef7a98e26",
   "metadata": {
    "tags": []
   },
   "outputs": [],
   "source": [
    "from src.onlinedgp.models import BinarySingleModel"
   ]
  },
  {
   "cell_type": "code",
   "execution_count": 3,
   "id": "2b8a3162-f6fa-4895-80a9-65a9e60a3038",
   "metadata": {
    "tags": []
   },
   "outputs": [],
   "source": [
    "model = BinarySingleModel(data_name=\"train_4\", data_fold=1, dim_hidden=[2], num_rff=50, num_particle=1000, \n",
    "                            display_step=200, warm_start=0, learning_rate=0.001, num_train_cycle=1)"
   ]
  },
  {
   "cell_type": "code",
   "execution_count": 4,
   "id": "218ab070-44a0-4871-9ade-4581aea76eda",
   "metadata": {
    "tags": []
   },
   "outputs": [
    {
     "name": "stdout",
     "output_type": "stream",
     "text": [
      ">>> train cycle 1\n",
      ">>> cycle=1, t=1, mse=0.503, mnll=1.3925, time=0.0 minutes\n",
      ">>> cycle=1, t=200, mse=0.4937, mnll=1.3751, time=0.02 minutes\n",
      ">>> cycle=1, t=400, mse=0.4931, mnll=1.3733, time=0.05 minutes\n",
      ">>> cycle=1, t=600, mse=0.4928, mnll=1.3725, time=0.07 minutes\n",
      ">>> cycle=1, t=800, mse=0.4926, mnll=1.372, time=0.1 minutes\n",
      ">>> cycle=1, t=1000, mse=0.4925, mnll=1.3718, time=0.12 minutes\n",
      ">>> cycle=1, t=1200, mse=0.4925, mnll=1.3717, time=0.15 minutes\n",
      ">>> cycle=1, t=1400, mse=0.4925, mnll=1.3716, time=0.18 minutes\n",
      ">>> cycle=1, t=1600, mse=0.4924, mnll=1.3713, time=0.2 minutes\n",
      ">>> cycle=1, t=1800, mse=0.4923, mnll=1.3712, time=0.23 minutes\n",
      ">>> cycle=1, t=2000, mse=0.4923, mnll=1.3711, time=0.25 minutes\n",
      ">>> cycle=1, t=2200, mse=0.4923, mnll=1.371, time=0.28 minutes\n",
      ">>> cycle=1, t=2400, mse=0.4922, mnll=1.3709, time=0.3 minutes\n",
      ">>> cycle=1, t=2600, mse=0.4922, mnll=1.3709, time=0.33 minutes\n",
      ">>> cycle=1, t=2800, mse=0.4922, mnll=1.3709, time=0.35 minutes\n",
      ">>> cycle=1, t=3000, mse=0.4922, mnll=1.3708, time=0.38 minutes\n",
      ">>> cycle=1, t=3200, mse=0.4922, mnll=1.3708, time=0.4 minutes\n",
      ">>> cycle=1, t=3400, mse=0.4922, mnll=1.3709, time=0.43 minutes\n",
      ">>> cycle=1, t=3600, mse=0.4922, mnll=1.3708, time=0.46 minutes\n",
      ">>> cycle=1, t=3800, mse=0.4922, mnll=1.3709, time=0.48 minutes\n",
      ">>> cycle=1, t=4000, mse=0.4922, mnll=1.3708, time=0.51 minutes\n",
      ">>> cycle=1, t=4200, mse=0.4922, mnll=1.3708, time=0.54 minutes\n",
      ">>> cycle=1, t=4400, mse=0.4922, mnll=1.3708, time=0.57 minutes\n",
      ">>> cycle=1, t=4600, mse=0.4922, mnll=1.3708, time=0.59 minutes\n",
      ">>> cycle=1, t=4800, mse=0.4922, mnll=1.3708, time=0.62 minutes\n",
      ">>> cycle=1, t=5000, mse=0.4922, mnll=1.3708, time=0.64 minutes\n",
      ">>> cycle=1, t=5200, mse=0.4922, mnll=1.3708, time=0.67 minutes\n",
      ">>> cycle=1, t=5400, mse=0.4922, mnll=1.3707, time=0.7 minutes\n",
      ">>> cycle=1, t=5600, mse=0.4922, mnll=1.3707, time=0.73 minutes\n",
      ">>> cycle=1, t=5800, mse=0.4922, mnll=1.3708, time=0.75 minutes\n",
      ">>> cycle=1, t=6000, mse=0.4922, mnll=1.3708, time=0.78 minutes\n",
      ">>> cycle=1, t=6200, mse=0.4922, mnll=1.3708, time=0.81 minutes\n",
      ">>> cycle=1, t=6400, mse=0.4922, mnll=1.3707, time=0.84 minutes\n",
      ">>> cycle=1, t=6600, mse=0.4922, mnll=1.3707, time=0.86 minutes\n",
      ">>> cycle=1, t=6800, mse=0.4922, mnll=1.3707, time=0.89 minutes\n",
      ">>> cycle=1, t=7000, mse=0.4922, mnll=1.3707, time=0.92 minutes\n",
      ">>> cycle=1, t=7200, mse=0.4922, mnll=1.3707, time=0.94 minutes\n",
      ">>> cycle=1, t=7400, mse=0.4921, mnll=1.3707, time=0.97 minutes\n",
      ">>> cycle=1, t=7600, mse=0.4921, mnll=1.3706, time=1.0 minutes\n",
      ">>> cycle=1, t=7800, mse=0.4921, mnll=1.3706, time=1.02 minutes\n",
      ">>> cycle=1, t=8000, mse=0.4921, mnll=1.3706, time=1.05 minutes\n",
      ">>> cycle=1, t=8200, mse=0.4921, mnll=1.3706, time=1.08 minutes\n",
      ">>> cycle=1, t=8400, mse=0.4921, mnll=1.3706, time=1.1 minutes\n",
      ">>> cycle=1, t=8600, mse=0.4921, mnll=1.3706, time=1.13 minutes\n",
      ">>> cycle=1, t=8800, mse=0.4921, mnll=1.3706, time=1.16 minutes\n",
      ">>> cycle=1, t=9000, mse=0.4921, mnll=1.3706, time=1.18 minutes\n",
      ">>> cycle=1, t=9200, mse=0.4921, mnll=1.3706, time=1.21 minutes\n",
      ">>> cycle=1, t=9400, mse=0.4921, mnll=1.3705, time=1.24 minutes\n",
      ">>> cycle=1, t=9600, mse=0.4921, mnll=1.3705, time=1.26 minutes\n",
      ">>> cycle=1, t=9800, mse=0.4921, mnll=1.3705, time=1.29 minutes\n",
      ">>> cycle=1, t=10000, mse=0.4921, mnll=1.3705, time=1.32 minutes\n"
     ]
    }
   ],
   "source": [
    "model.learn()"
   ]
  },
  {
   "cell_type": "code",
   "execution_count": 5,
   "id": "a1d3349b-ec28-4fe0-acfc-87225927674f",
   "metadata": {
    "tags": []
   },
   "outputs": [],
   "source": [
    "cwd = os.getcwd()\n",
    "model_path = os.path.join(cwd, \"models\", \"train_4.pickle\")\n",
    "with open(model_path, 'wb') as f:\n",
    "    pickle.dump(model, f)"
   ]
  }
 ],
 "metadata": {
  "kernelspec": {
   "display_name": "Python 3 (ipykernel)",
   "language": "python",
   "name": "python3"
  },
  "language_info": {
   "codemirror_mode": {
    "name": "ipython",
    "version": 3
   },
   "file_extension": ".py",
   "mimetype": "text/x-python",
   "name": "python",
   "nbconvert_exporter": "python",
   "pygments_lexer": "ipython3",
   "version": "3.11.4"
  }
 },
 "nbformat": 4,
 "nbformat_minor": 5
}
