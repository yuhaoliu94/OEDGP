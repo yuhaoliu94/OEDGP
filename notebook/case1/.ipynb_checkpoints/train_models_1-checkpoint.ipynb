{
 "cells": [
  {
   "cell_type": "code",
   "execution_count": 1,
   "id": "c789d477-a221-4bf6-b577-067a059cfb8c",
   "metadata": {
    "tags": []
   },
   "outputs": [],
   "source": [
    "import os\n",
    "import pickle\n",
    "os.getcwd()\n",
    "os.chdir(\"../../\")\n",
    "\n",
    "import numpy as np\n",
    "from matplotlib import pyplot as plt"
   ]
  },
  {
   "cell_type": "code",
   "execution_count": 2,
   "id": "fc1699a9-1668-49cd-9809-f78ef7a98e26",
   "metadata": {
    "tags": []
   },
   "outputs": [],
   "source": [
    "from src.onlinedgp.models import StandardSingleModel"
   ]
  },
  {
   "cell_type": "code",
   "execution_count": 3,
   "id": "2b8a3162-f6fa-4895-80a9-65a9e60a3038",
   "metadata": {
    "tags": []
   },
   "outputs": [],
   "source": [
    "model = StandardSingleModel(data_name=\"train_1\", data_fold=1, dim_hidden=[2], num_rff=50, num_particle=1000, \n",
    "                            display_step=200, warm_start=0, learning_rate=0.001, num_train_cycle=1)"
   ]
  },
  {
   "cell_type": "code",
   "execution_count": 4,
   "id": "218ab070-44a0-4871-9ade-4581aea76eda",
   "metadata": {
    "tags": []
   },
   "outputs": [
    {
     "name": "stdout",
     "output_type": "stream",
     "text": [
      ">>> train cycle 1\n",
      ">>> cycle=1, t=1, mse=7.8523, mnll=25.0659, time=0.0 minutes\n",
      ">>> cycle=1, t=200, mse=1.161, mnll=-3.6391, time=0.07 minutes\n",
      ">>> cycle=1, t=400, mse=0.6251, mnll=-7.0198, time=0.17 minutes\n",
      ">>> cycle=1, t=600, mse=0.4332, mnll=-8.9516, time=0.23 minutes\n",
      ">>> cycle=1, t=800, mse=0.3307, mnll=-10.3074, time=0.29 minutes\n",
      ">>> cycle=1, t=1000, mse=0.2703, mnll=-11.3381, time=0.36 minutes\n",
      ">>> cycle=1, t=1200, mse=0.2286, mnll=-12.1685, time=0.45 minutes\n",
      ">>> cycle=1, t=1400, mse=0.1984, mnll=-12.863, time=0.51 minutes\n",
      ">>> cycle=1, t=1600, mse=0.1751, mnll=-13.4679, time=0.58 minutes\n",
      ">>> cycle=1, t=1800, mse=0.1576, mnll=-13.984, time=0.67 minutes\n",
      ">>> cycle=1, t=2000, mse=0.143, mnll=-14.4495, time=0.74 minutes\n",
      ">>> cycle=1, t=2200, mse=0.1312, mnll=-14.8679, time=0.8 minutes\n",
      ">>> cycle=1, t=2400, mse=0.1212, mnll=-15.2428, time=0.87 minutes\n",
      ">>> cycle=1, t=2600, mse=0.1127, mnll=-15.5878, time=0.96 minutes\n",
      ">>> cycle=1, t=2800, mse=0.1055, mnll=-15.9027, time=1.02 minutes\n",
      ">>> cycle=1, t=3000, mse=0.0991, mnll=-16.1956, time=1.08 minutes\n",
      ">>> cycle=1, t=3200, mse=0.0936, mnll=-16.4652, time=1.15 minutes\n",
      ">>> cycle=1, t=3400, mse=0.0887, mnll=-16.7213, time=1.25 minutes\n",
      ">>> cycle=1, t=3600, mse=0.0843, mnll=-16.9592, time=1.31 minutes\n",
      ">>> cycle=1, t=3800, mse=0.0803, mnll=-17.1836, time=1.38 minutes\n",
      ">>> cycle=1, t=4000, mse=0.0768, mnll=-17.3992, time=1.46 minutes\n",
      ">>> cycle=1, t=4200, mse=0.0735, mnll=-17.6014, time=1.53 minutes\n",
      ">>> cycle=1, t=4400, mse=0.0705, mnll=-17.7902, time=1.6 minutes\n",
      ">>> cycle=1, t=4600, mse=0.0678, mnll=-17.9676, time=1.66 minutes\n",
      ">>> cycle=1, t=4800, mse=0.0653, mnll=-18.1418, time=1.76 minutes\n",
      ">>> cycle=1, t=5000, mse=0.063, mnll=-18.3071, time=1.83 minutes\n",
      ">>> cycle=1, t=5200, mse=0.0609, mnll=-18.4651, time=1.89 minutes\n",
      ">>> cycle=1, t=5400, mse=0.0589, mnll=-18.6158, time=1.96 minutes\n",
      ">>> cycle=1, t=5600, mse=0.057, mnll=-18.7622, time=2.04 minutes\n",
      ">>> cycle=1, t=5800, mse=0.0553, mnll=-18.9011, time=2.11 minutes\n",
      ">>> cycle=1, t=6000, mse=0.0538, mnll=-19.0347, time=2.18 minutes\n",
      ">>> cycle=1, t=6200, mse=0.0523, mnll=-19.1641, time=2.28 minutes\n",
      ">>> cycle=1, t=6400, mse=0.0508, mnll=-19.2919, time=2.35 minutes\n",
      ">>> cycle=1, t=6600, mse=0.0496, mnll=-19.4123, time=2.41 minutes\n",
      ">>> cycle=1, t=6800, mse=0.0483, mnll=-19.5306, time=2.48 minutes\n",
      ">>> cycle=1, t=7000, mse=0.0471, mnll=-19.644, time=2.56 minutes\n",
      ">>> cycle=1, t=7200, mse=0.046, mnll=-19.7545, time=2.63 minutes\n",
      ">>> cycle=1, t=7400, mse=0.0449, mnll=-19.8644, time=2.7 minutes\n",
      ">>> cycle=1, t=7600, mse=0.0439, mnll=-19.9707, time=2.79 minutes\n",
      ">>> cycle=1, t=7800, mse=0.043, mnll=-20.0743, time=2.86 minutes\n",
      ">>> cycle=1, t=8000, mse=0.0421, mnll=-20.176, time=2.93 minutes\n",
      ">>> cycle=1, t=8200, mse=0.0412, mnll=-20.274, time=3.0 minutes\n",
      ">>> cycle=1, t=8400, mse=0.0404, mnll=-20.3705, time=3.08 minutes\n",
      ">>> cycle=1, t=8600, mse=0.0396, mnll=-20.4635, time=3.14 minutes\n",
      ">>> cycle=1, t=8800, mse=0.0389, mnll=-20.5545, time=3.21 minutes\n",
      ">>> cycle=1, t=9000, mse=0.0382, mnll=-20.6442, time=3.3 minutes\n",
      ">>> cycle=1, t=9200, mse=0.0375, mnll=-20.7315, time=3.39 minutes\n",
      ">>> cycle=1, t=9400, mse=0.0368, mnll=-20.8175, time=3.46 minutes\n",
      ">>> cycle=1, t=9600, mse=0.0362, mnll=-20.9018, time=3.54 minutes\n",
      ">>> cycle=1, t=9800, mse=0.0356, mnll=-20.9836, time=3.63 minutes\n",
      ">>> cycle=1, t=10000, mse=0.035, mnll=-21.064, time=3.69 minutes\n"
     ]
    }
   ],
   "source": [
    "model.learn()"
   ]
  },
  {
   "cell_type": "code",
   "execution_count": 5,
   "id": "a1d3349b-ec28-4fe0-acfc-87225927674f",
   "metadata": {
    "tags": []
   },
   "outputs": [],
   "source": [
    "cwd = os.getcwd()\n",
    "model_path = os.path.join(cwd, \"models\", \"train_1.pickle\")\n",
    "with open(model_path, 'wb') as f:\n",
    "    pickle.dump(model, f)"
   ]
  }
 ],
 "metadata": {
  "kernelspec": {
   "display_name": "Python 3 (ipykernel)",
   "language": "python",
   "name": "python3"
  },
  "language_info": {
   "codemirror_mode": {
    "name": "ipython",
    "version": 3
   },
   "file_extension": ".py",
   "mimetype": "text/x-python",
   "name": "python",
   "nbconvert_exporter": "python",
   "pygments_lexer": "ipython3",
   "version": "3.11.4"
  }
 },
 "nbformat": 4,
 "nbformat_minor": 5
}
