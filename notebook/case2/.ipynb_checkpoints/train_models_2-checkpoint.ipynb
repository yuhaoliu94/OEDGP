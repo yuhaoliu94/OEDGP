{
 "cells": [
  {
   "cell_type": "code",
   "execution_count": 1,
   "id": "c789d477-a221-4bf6-b577-067a059cfb8c",
   "metadata": {
    "tags": []
   },
   "outputs": [],
   "source": [
    "import os\n",
    "import pickle\n",
    "os.getcwd()\n",
    "os.chdir(\"../../\")\n",
    "\n",
    "import numpy as np\n",
    "from matplotlib import pyplot as plt"
   ]
  },
  {
   "cell_type": "code",
   "execution_count": 2,
   "id": "fc1699a9-1668-49cd-9809-f78ef7a98e26",
   "metadata": {
    "tags": []
   },
   "outputs": [],
   "source": [
    "from src.onlinedgp.models import ResSingleModel"
   ]
  },
  {
   "cell_type": "code",
   "execution_count": 3,
   "id": "2b8a3162-f6fa-4895-80a9-65a9e60a3038",
   "metadata": {
    "tags": []
   },
   "outputs": [],
   "source": [
    "model = ResSingleModel(data_name=\"train_1\", data_fold=1, dim_hidden=[2,2], num_rff=50, num_particle=1000, \n",
    "                            display_step=200, warm_start=0, learning_rate=0.001, num_train_cycle=1)"
   ]
  },
  {
   "cell_type": "code",
   "execution_count": 4,
   "id": "218ab070-44a0-4871-9ade-4581aea76eda",
   "metadata": {
    "tags": []
   },
   "outputs": [
    {
     "name": "stdout",
     "output_type": "stream",
     "text": [
      ">>> train cycle 1\n",
      ">>> cycle=1, t=1, mse=7.8563, mnll=25.0659, time=0.0 minutes\n",
      ">>> cycle=1, t=200, mse=0.5238, mnll=-4.4635, time=0.09 minutes\n",
      ">>> cycle=1, t=400, mse=0.2737, mnll=-7.8698, time=0.19 minutes\n",
      ">>> cycle=1, t=600, mse=0.1894, mnll=-9.7624, time=0.29 minutes\n",
      ">>> cycle=1, t=800, mse=0.1438, mnll=-11.1341, time=0.38 minutes\n",
      ">>> cycle=1, t=1000, mse=0.1169, mnll=-12.152, time=0.51 minutes\n",
      ">>> cycle=1, t=1200, mse=0.0988, mnll=-12.9634, time=0.61 minutes\n",
      ">>> cycle=1, t=1400, mse=0.0856, mnll=-13.6474, time=0.72 minutes\n",
      ">>> cycle=1, t=1600, mse=0.0755, mnll=-14.2585, time=0.82 minutes\n",
      ">>> cycle=1, t=1800, mse=0.0678, mnll=-14.7604, time=0.9 minutes\n",
      ">>> cycle=1, t=2000, mse=0.0615, mnll=-15.2257, time=1.03 minutes\n",
      ">>> cycle=1, t=2200, mse=0.0567, mnll=-15.6055, time=1.12 minutes\n",
      ">>> cycle=1, t=2400, mse=0.0524, mnll=-15.9787, time=1.21 minutes\n",
      ">>> cycle=1, t=2600, mse=0.0487, mnll=-16.3129, time=1.32 minutes\n",
      ">>> cycle=1, t=2800, mse=0.046, mnll=-16.5667, time=1.41 minutes\n",
      ">>> cycle=1, t=3000, mse=0.0433, mnll=-16.8494, time=1.55 minutes\n",
      ">>> cycle=1, t=3200, mse=0.0415, mnll=-17.0382, time=1.83 minutes\n",
      ">>> cycle=1, t=3400, mse=0.0393, mnll=-17.2842, time=2.18 minutes\n",
      ">>> cycle=1, t=3600, mse=0.0374, mnll=-17.5101, time=2.27 minutes\n",
      ">>> cycle=1, t=3800, mse=0.0356, mnll=-17.7296, time=2.38 minutes\n",
      ">>> cycle=1, t=4000, mse=0.034, mnll=-17.9348, time=2.47 minutes\n",
      ">>> cycle=1, t=4200, mse=0.0326, mnll=-18.1272, time=2.61 minutes\n",
      ">>> cycle=1, t=4400, mse=0.0313, mnll=-18.3099, time=2.75 minutes\n",
      ">>> cycle=1, t=4600, mse=0.0301, mnll=-18.4823, time=2.88 minutes\n",
      ">>> cycle=1, t=4800, mse=0.029, mnll=-18.6498, time=2.98 minutes\n",
      ">>> cycle=1, t=5000, mse=0.028, mnll=-18.8114, time=3.15 minutes\n",
      ">>> cycle=1, t=5200, mse=0.0272, mnll=-18.9292, time=3.34 minutes\n",
      ">>> cycle=1, t=5400, mse=0.0264, mnll=-19.077, time=3.49 minutes\n",
      ">>> cycle=1, t=5600, mse=0.0255, mnll=-19.2145, time=3.67 minutes\n",
      ">>> cycle=1, t=5800, mse=0.0248, mnll=-19.3454, time=3.78 minutes\n",
      ">>> cycle=1, t=6000, mse=0.0241, mnll=-19.4701, time=3.88 minutes\n",
      ">>> cycle=1, t=6200, mse=0.0235, mnll=-19.5854, time=4.02 minutes\n",
      ">>> cycle=1, t=6400, mse=0.0228, mnll=-19.7026, time=4.2 minutes\n",
      ">>> cycle=1, t=6600, mse=0.0223, mnll=-19.8136, time=4.33 minutes\n",
      ">>> cycle=1, t=6800, mse=0.0217, mnll=-19.9211, time=4.45 minutes\n",
      ">>> cycle=1, t=7000, mse=0.0212, mnll=-20.0207, time=4.55 minutes\n",
      ">>> cycle=1, t=7200, mse=0.0207, mnll=-20.1169, time=4.66 minutes\n",
      ">>> cycle=1, t=7400, mse=0.0203, mnll=-20.2193, time=4.78 minutes\n",
      ">>> cycle=1, t=7600, mse=0.0198, mnll=-20.3154, time=4.87 minutes\n",
      ">>> cycle=1, t=7800, mse=0.0194, mnll=-20.4123, time=4.97 minutes\n",
      ">>> cycle=1, t=8000, mse=0.019, mnll=-20.4996, time=5.07 minutes\n",
      ">>> cycle=1, t=8200, mse=0.0186, mnll=-20.5848, time=5.16 minutes\n",
      ">>> cycle=1, t=8400, mse=0.0183, mnll=-20.6715, time=5.3 minutes\n",
      ">>> cycle=1, t=8600, mse=0.018, mnll=-20.7384, time=5.39 minutes\n",
      ">>> cycle=1, t=8800, mse=0.0177, mnll=-20.8137, time=5.48 minutes\n",
      ">>> cycle=1, t=9000, mse=0.0174, mnll=-20.8901, time=5.58 minutes\n",
      ">>> cycle=1, t=9200, mse=0.0171, mnll=-20.9678, time=5.68 minutes\n",
      ">>> cycle=1, t=9400, mse=0.0168, mnll=-21.0402, time=5.81 minutes\n",
      ">>> cycle=1, t=9600, mse=0.0165, mnll=-21.1093, time=5.92 minutes\n",
      ">>> cycle=1, t=9800, mse=0.0162, mnll=-21.1772, time=6.01 minutes\n",
      ">>> cycle=1, t=10000, mse=0.016, mnll=-21.2457, time=6.12 minutes\n"
     ]
    }
   ],
   "source": [
    "model.learn()"
   ]
  },
  {
   "cell_type": "code",
   "execution_count": 5,
   "id": "a1d3349b-ec28-4fe0-acfc-87225927674f",
   "metadata": {
    "tags": []
   },
   "outputs": [],
   "source": [
    "cwd = os.getcwd()\n",
    "model_path = os.path.join(cwd, \"models\", \"train_2.pickle\")\n",
    "with open(model_path, 'wb') as f:\n",
    "    pickle.dump(model, f)"
   ]
  },
  {
   "cell_type": "code",
   "execution_count": null,
   "id": "a96395df-2c19-4e36-b918-4deb1a94f18d",
   "metadata": {},
   "outputs": [],
   "source": []
  }
 ],
 "metadata": {
  "kernelspec": {
   "display_name": "Python 3 (ipykernel)",
   "language": "python",
   "name": "python3"
  },
  "language_info": {
   "codemirror_mode": {
    "name": "ipython",
    "version": 3
   },
   "file_extension": ".py",
   "mimetype": "text/x-python",
   "name": "python",
   "nbconvert_exporter": "python",
   "pygments_lexer": "ipython3",
   "version": "3.11.4"
  }
 },
 "nbformat": 4,
 "nbformat_minor": 5
}
