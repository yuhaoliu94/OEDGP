{
 "cells": [
  {
   "cell_type": "code",
   "execution_count": 1,
   "id": "c789d477-a221-4bf6-b577-067a059cfb8c",
   "metadata": {
    "tags": []
   },
   "outputs": [],
   "source": [
    "import os\n",
    "import pickle\n",
    "os.getcwd()\n",
    "os.chdir(\"../../\")\n",
    "\n",
    "import numpy as np\n",
    "from matplotlib import pyplot as plt"
   ]
  },
  {
   "cell_type": "code",
   "execution_count": 2,
   "id": "fc1699a9-1668-49cd-9809-f78ef7a98e26",
   "metadata": {
    "tags": []
   },
   "outputs": [],
   "source": [
    "from src.onlinedgp.models import ResSingleModel"
   ]
  },
  {
   "cell_type": "code",
   "execution_count": 3,
   "id": "2b8a3162-f6fa-4895-80a9-65a9e60a3038",
   "metadata": {
    "tags": []
   },
   "outputs": [],
   "source": [
    "model = ResSingleModel(data_name=\"train_1\", data_fold=1, dim_hidden=[2,2], num_rff=50, num_particle=1000, \n",
    "                            display_step=200, warm_start=0, learning_rate=0.001, num_train_cycle=1)"
   ]
  },
  {
   "cell_type": "code",
   "execution_count": 4,
   "id": "218ab070-44a0-4871-9ade-4581aea76eda",
   "metadata": {
    "tags": []
   },
   "outputs": [
    {
     "name": "stdout",
     "output_type": "stream",
     "text": [
      ">>> train cycle 1\n",
      ">>> cycle=1, t=1, mse=7.8523, mnll=25.0659, time=0.0 minutes\n",
      ">>> cycle=1, t=200, mse=1.1707, mnll=-3.5889, time=0.11 minutes\n",
      ">>> cycle=1, t=400, mse=0.6328, mnll=-6.9643, time=0.22 minutes\n",
      ">>> cycle=1, t=600, mse=0.4391, mnll=-8.896, time=0.31 minutes\n",
      ">>> cycle=1, t=800, mse=0.3353, mnll=-10.2547, time=0.42 minutes\n",
      ">>> cycle=1, t=1000, mse=0.2742, mnll=-11.2892, time=0.51 minutes\n",
      ">>> cycle=1, t=1200, mse=0.232, mnll=-12.121, time=0.63 minutes\n",
      ">>> cycle=1, t=1400, mse=0.2014, mnll=-12.817, time=0.74 minutes\n",
      ">>> cycle=1, t=1600, mse=0.1777, mnll=-13.424, time=0.83 minutes\n",
      ">>> cycle=1, t=1800, mse=0.1599, mnll=-13.9441, time=0.94 minutes\n",
      ">>> cycle=1, t=2000, mse=0.145, mnll=-14.4114, time=1.03 minutes\n",
      ">>> cycle=1, t=2200, mse=0.133, mnll=-14.8319, time=1.16 minutes\n",
      ">>> cycle=1, t=2400, mse=0.1229, mnll=-15.2088, time=1.3 minutes\n",
      ">>> cycle=1, t=2600, mse=0.1143, mnll=-15.5553, time=1.39 minutes\n",
      ">>> cycle=1, t=2800, mse=0.107, mnll=-15.8714, time=1.51 minutes\n",
      ">>> cycle=1, t=3000, mse=0.1005, mnll=-16.166, time=1.62 minutes\n",
      ">>> cycle=1, t=3200, mse=0.0949, mnll=-16.4382, time=1.74 minutes\n",
      ">>> cycle=1, t=3400, mse=0.0899, mnll=-16.6952, time=1.84 minutes\n",
      ">>> cycle=1, t=3600, mse=0.0855, mnll=-16.9348, time=1.94 minutes\n",
      ">>> cycle=1, t=3800, mse=0.0815, mnll=-17.1603, time=2.06 minutes\n",
      ">>> cycle=1, t=4000, mse=0.0778, mnll=-17.3772, time=2.17 minutes\n",
      ">>> cycle=1, t=4200, mse=0.0745, mnll=-17.5808, time=2.28 minutes\n",
      ">>> cycle=1, t=4400, mse=0.0715, mnll=-17.771, time=2.37 minutes\n",
      ">>> cycle=1, t=4600, mse=0.0688, mnll=-17.9502, time=2.45 minutes\n",
      ">>> cycle=1, t=4800, mse=0.0662, mnll=-18.1265, time=2.56 minutes\n",
      ">>> cycle=1, t=5000, mse=0.0639, mnll=-18.2939, time=2.67 minutes\n",
      ">>> cycle=1, t=5200, mse=0.0617, mnll=-18.4536, time=2.76 minutes\n",
      ">>> cycle=1, t=5400, mse=0.0597, mnll=-18.606, time=2.86 minutes\n",
      ">>> cycle=1, t=5600, mse=0.0578, mnll=-18.7541, time=2.95 minutes\n",
      ">>> cycle=1, t=5800, mse=0.0561, mnll=-18.895, time=3.04 minutes\n",
      ">>> cycle=1, t=6000, mse=0.0545, mnll=-19.0309, time=3.18 minutes\n",
      ">>> cycle=1, t=6200, mse=0.053, mnll=-19.1621, time=3.29 minutes\n",
      ">>> cycle=1, t=6400, mse=0.0515, mnll=-19.2918, time=3.41 minutes\n",
      ">>> cycle=1, t=6600, mse=0.0502, mnll=-19.4142, time=3.5 minutes\n",
      ">>> cycle=1, t=6800, mse=0.0489, mnll=-19.5346, time=3.61 minutes\n",
      ">>> cycle=1, t=7000, mse=0.0477, mnll=-19.6498, time=3.72 minutes\n",
      ">>> cycle=1, t=7200, mse=0.0465, mnll=-19.7627, time=3.94 minutes\n",
      ">>> cycle=1, t=7400, mse=0.0454, mnll=-19.8747, time=4.11 minutes\n",
      ">>> cycle=1, t=7600, mse=0.0444, mnll=-19.983, time=4.25 minutes\n",
      ">>> cycle=1, t=7800, mse=0.0434, mnll=-20.0887, time=4.34 minutes\n",
      ">>> cycle=1, t=8000, mse=0.0425, mnll=-20.1924, time=4.45 minutes\n",
      ">>> cycle=1, t=8200, mse=0.0417, mnll=-20.2922, time=4.54 minutes\n",
      ">>> cycle=1, t=8400, mse=0.0408, mnll=-20.3904, time=4.63 minutes\n",
      ">>> cycle=1, t=8600, mse=0.04, mnll=-20.4862, time=4.75 minutes\n",
      ">>> cycle=1, t=8800, mse=0.0392, mnll=-20.5797, time=4.85 minutes\n",
      ">>> cycle=1, t=9000, mse=0.0385, mnll=-20.6708, time=4.96 minutes\n",
      ">>> cycle=1, t=9200, mse=0.0378, mnll=-20.7598, time=5.05 minutes\n",
      ">>> cycle=1, t=9400, mse=0.0372, mnll=-20.8469, time=5.14 minutes\n",
      ">>> cycle=1, t=9600, mse=0.0365, mnll=-20.9318, time=5.24 minutes\n",
      ">>> cycle=1, t=9800, mse=0.0359, mnll=-21.015, time=5.35 minutes\n",
      ">>> cycle=1, t=10000, mse=0.0353, mnll=-21.0964, time=5.45 minutes\n"
     ]
    }
   ],
   "source": [
    "model.learn()"
   ]
  },
  {
   "cell_type": "code",
   "execution_count": 6,
   "id": "a1d3349b-ec28-4fe0-acfc-87225927674f",
   "metadata": {
    "tags": []
   },
   "outputs": [],
   "source": [
    "cwd = os.getcwd()\n",
    "model_path = os.path.join(cwd, \"models\", \"train_2.pickle\")\n",
    "with open(model_path, 'wb') as f:\n",
    "    pickle.dump(model, f)"
   ]
  },
  {
   "cell_type": "code",
   "execution_count": null,
   "id": "a96395df-2c19-4e36-b918-4deb1a94f18d",
   "metadata": {},
   "outputs": [],
   "source": []
  }
 ],
 "metadata": {
  "kernelspec": {
   "display_name": "Python 3 (ipykernel)",
   "language": "python",
   "name": "python3"
  },
  "language_info": {
   "codemirror_mode": {
    "name": "ipython",
    "version": 3
   },
   "file_extension": ".py",
   "mimetype": "text/x-python",
   "name": "python",
   "nbconvert_exporter": "python",
   "pygments_lexer": "ipython3",
   "version": "3.11.4"
  }
 },
 "nbformat": 4,
 "nbformat_minor": 5
}
