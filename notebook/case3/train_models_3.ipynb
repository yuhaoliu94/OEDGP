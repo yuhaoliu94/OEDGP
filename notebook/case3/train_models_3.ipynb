{
 "cells": [
  {
   "cell_type": "code",
   "execution_count": 1,
   "id": "c789d477-a221-4bf6-b577-067a059cfb8c",
   "metadata": {
    "tags": []
   },
   "outputs": [],
   "source": [
    "import os\n",
    "import pickle\n",
    "os.getcwd()\n",
    "os.chdir(\"../../\")\n",
    "\n",
    "import numpy as np\n",
    "from matplotlib import pyplot as plt"
   ]
  },
  {
   "cell_type": "code",
   "execution_count": 2,
   "id": "fc1699a9-1668-49cd-9809-f78ef7a98e26",
   "metadata": {
    "tags": []
   },
   "outputs": [],
   "source": [
    "from src.onlinedgp.models import StandardSingleModel"
   ]
  },
  {
   "cell_type": "code",
   "execution_count": 3,
   "id": "2b8a3162-f6fa-4895-80a9-65a9e60a3038",
   "metadata": {
    "tags": []
   },
   "outputs": [],
   "source": [
    "model = StandardSingleModel(data_name=\"train_1\", data_fold=1, dim_hidden=[2,2], num_rff=50, num_particle=1000, \n",
    "                            display_step=200, warm_start=0, learning_rate=0.001, num_train_cycle=1)"
   ]
  },
  {
   "cell_type": "code",
   "execution_count": 4,
   "id": "218ab070-44a0-4871-9ade-4581aea76eda",
   "metadata": {
    "tags": []
   },
   "outputs": [
    {
     "name": "stdout",
     "output_type": "stream",
     "text": [
      ">>> train cycle 1\n",
      ">>> cycle=1, t=1, mse=7.8523, mnll=25.0659, time=0.0 minutes\n",
      ">>> cycle=1, t=200, mse=4.7665, mnll=-0.6025, time=0.15 minutes\n",
      ">>> cycle=1, t=400, mse=4.7126, mnll=-2.61, time=0.26 minutes\n",
      ">>> cycle=1, t=600, mse=4.4568, mnll=-3.334, time=0.36 minutes\n",
      ">>> cycle=1, t=800, mse=4.0511, mnll=-3.8903, time=0.46 minutes\n",
      ">>> cycle=1, t=1000, mse=3.622, mnll=-4.2779, time=0.55 minutes\n",
      ">>> cycle=1, t=1200, mse=3.2927, mnll=-4.465, time=0.66 minutes\n",
      ">>> cycle=1, t=1400, mse=3.0111, mnll=-4.7167, time=0.76 minutes\n",
      ">>> cycle=1, t=1600, mse=2.7584, mnll=-5.0244, time=0.85 minutes\n",
      ">>> cycle=1, t=1800, mse=2.5711, mnll=-5.1759, time=0.96 minutes\n",
      ">>> cycle=1, t=2000, mse=2.4011, mnll=-5.3632, time=1.05 minutes\n",
      ">>> cycle=1, t=2200, mse=2.2626, mnll=-5.5046, time=1.19 minutes\n",
      ">>> cycle=1, t=2400, mse=2.1468, mnll=-5.586, time=1.31 minutes\n",
      ">>> cycle=1, t=2600, mse=2.0513, mnll=-5.7164, time=1.39 minutes\n",
      ">>> cycle=1, t=2800, mse=1.9649, mnll=-5.8267, time=1.51 minutes\n",
      ">>> cycle=1, t=3000, mse=1.8872, mnll=-5.9374, time=1.6 minutes\n",
      ">>> cycle=1, t=3200, mse=1.8258, mnll=-6.0182, time=1.71 minutes\n",
      ">>> cycle=1, t=3400, mse=1.7652, mnll=-6.0938, time=1.82 minutes\n",
      ">>> cycle=1, t=3600, mse=1.7134, mnll=-6.195, time=1.98 minutes\n",
      ">>> cycle=1, t=3800, mse=1.6701, mnll=-6.2637, time=2.11 minutes\n",
      ">>> cycle=1, t=4000, mse=1.623, mnll=-6.3366, time=2.21 minutes\n",
      ">>> cycle=1, t=4200, mse=1.5797, mnll=-6.4333, time=2.35 minutes\n",
      ">>> cycle=1, t=4400, mse=1.5387, mnll=-6.5116, time=2.45 minutes\n",
      ">>> cycle=1, t=4600, mse=1.5053, mnll=-6.5791, time=2.58 minutes\n",
      ">>> cycle=1, t=4800, mse=1.4713, mnll=-6.666, time=2.67 minutes\n",
      ">>> cycle=1, t=5000, mse=1.4357, mnll=-6.7676, time=2.79 minutes\n",
      ">>> cycle=1, t=5200, mse=1.4044, mnll=-6.8503, time=2.9 minutes\n",
      ">>> cycle=1, t=5400, mse=1.3811, mnll=-6.9142, time=2.99 minutes\n",
      ">>> cycle=1, t=5600, mse=1.3573, mnll=-7.0052, time=3.16 minutes\n",
      ">>> cycle=1, t=5800, mse=1.3379, mnll=-7.0677, time=3.26 minutes\n",
      ">>> cycle=1, t=6000, mse=1.3161, mnll=-7.1472, time=3.41 minutes\n",
      ">>> cycle=1, t=6200, mse=1.2993, mnll=-7.2036, time=3.5 minutes\n",
      ">>> cycle=1, t=6400, mse=1.2802, mnll=-7.2913, time=3.61 minutes\n",
      ">>> cycle=1, t=6600, mse=1.2649, mnll=-7.3574, time=3.7 minutes\n",
      ">>> cycle=1, t=6800, mse=1.2493, mnll=-7.434, time=3.8 minutes\n",
      ">>> cycle=1, t=7000, mse=1.2362, mnll=-7.5045, time=3.97 minutes\n",
      ">>> cycle=1, t=7200, mse=1.222, mnll=-7.5845, time=4.06 minutes\n",
      ">>> cycle=1, t=7400, mse=1.2071, mnll=-7.6656, time=4.17 minutes\n",
      ">>> cycle=1, t=7600, mse=1.1943, mnll=-7.7376, time=4.26 minutes\n",
      ">>> cycle=1, t=7800, mse=1.1833, mnll=-7.7976, time=4.38 minutes\n",
      ">>> cycle=1, t=8000, mse=1.1716, mnll=-7.8718, time=4.5 minutes\n",
      ">>> cycle=1, t=8200, mse=1.1612, mnll=-7.9502, time=4.59 minutes\n",
      ">>> cycle=1, t=8400, mse=1.1485, mnll=-8.0337, time=4.71 minutes\n",
      ">>> cycle=1, t=8600, mse=1.1377, mnll=-8.1256, time=4.8 minutes\n",
      ">>> cycle=1, t=8800, mse=1.129, mnll=-8.2069, time=4.93 minutes\n",
      ">>> cycle=1, t=9000, mse=1.1188, mnll=-8.2946, time=5.04 minutes\n",
      ">>> cycle=1, t=9200, mse=1.11, mnll=-8.3781, time=5.13 minutes\n",
      ">>> cycle=1, t=9400, mse=1.1015, mnll=-8.4618, time=5.26 minutes\n",
      ">>> cycle=1, t=9600, mse=1.0922, mnll=-8.5463, time=5.4 minutes\n",
      ">>> cycle=1, t=9800, mse=1.0845, mnll=-8.6286, time=5.56 minutes\n",
      ">>> cycle=1, t=10000, mse=1.0764, mnll=-8.709, time=5.67 minutes\n"
     ]
    }
   ],
   "source": [
    "model.learn()"
   ]
  },
  {
   "cell_type": "code",
   "execution_count": 5,
   "id": "a1d3349b-ec28-4fe0-acfc-87225927674f",
   "metadata": {
    "tags": []
   },
   "outputs": [],
   "source": [
    "cwd = os.getcwd()\n",
    "model_path = os.path.join(cwd, \"models\", \"train_3.pickle\")\n",
    "with open(model_path, 'wb') as f:\n",
    "    pickle.dump(model, f)"
   ]
  }
 ],
 "metadata": {
  "kernelspec": {
   "display_name": "Python 3 (ipykernel)",
   "language": "python",
   "name": "python3"
  },
  "language_info": {
   "codemirror_mode": {
    "name": "ipython",
    "version": 3
   },
   "file_extension": ".py",
   "mimetype": "text/x-python",
   "name": "python",
   "nbconvert_exporter": "python",
   "pygments_lexer": "ipython3",
   "version": "3.11.4"
  }
 },
 "nbformat": 4,
 "nbformat_minor": 5
}
